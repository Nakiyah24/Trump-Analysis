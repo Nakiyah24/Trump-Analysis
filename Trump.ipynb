{
 "cells": [
  {
   "cell_type": "code",
   "execution_count": 1,
   "metadata": {},
   "outputs": [],
   "source": [
    "import matplotlib.pyplot as plt\n",
    "import pandas as pd"
   ]
  },
  {
   "cell_type": "code",
   "execution_count": 2,
   "metadata": {},
   "outputs": [],
   "source": [
    "# Load the dataset for dollar to pesos exchange rate\n",
    "dollar_to_pesos = pd.read_csv('DEXMXUS.csv')\n",
    "\n",
    "# Process the dollar to pesos data\n",
    "dollar_to_pesos['DATE'] = pd.to_datetime(dollar_to_pesos['DATE'], format='%Y-%m-%d')\n",
    "\n",
    "# Convert the 'DEXMXUS' column to numeric, forcing any errors to be NaN\n",
    "dollar_to_pesos['DEXMXUS'] = pd.to_numeric(dollar_to_pesos['DEXMXUS'], errors='coerce')\n",
    "\n",
    "# Drop any rows with missing values in 'DEXMXUS'\n",
    "dollar_to_pesos = dollar_to_pesos.dropna(subset=['DEXMXUS'])\n",
    "\n",
    "# Function to plot exchange rate data for each event with a line across high and low points and % change\n",
    "def plot_event_data(event_name, start_date, end_date):\n",
    "    # Filter data for the event period\n",
    "    mask = (dollar_to_pesos['DATE'] >= start_date) & (dollar_to_pesos['DATE'] <= end_date)\n",
    "    event_data = dollar_to_pesos.loc[mask]\n",
    "    \n",
    "    # Find the minimum and maximum points\n",
    "    min_value = event_data['DEXMXUS'].min()\n",
    "    max_value = event_data['DEXMXUS'].max()\n",
    "    min_date = event_data.loc[event_data['DEXMXUS'] == min_value, 'DATE'].iloc[0]\n",
    "    max_date = event_data.loc[event_data['DEXMXUS'] == max_value, 'DATE'].iloc[0] \n",
    "\n",
    "   # Calculate percentage change\n",
    "    pct_change = ((max_value - min_value) / min_value) * 100\n",
    "    \n",
    "    # Plotting\n",
    "    plt.figure(figsize=(12, 6))\n",
    "    plt.plot(event_data['DATE'], event_data['DEXMXUS'], label='MXN/USD Exchange Rate', color='blue')\n",
    "    plt.title(f'{event_name} - MXN/USD Exchange Rate')\n",
    "    plt.xlabel('Date')\n",
    "    plt.ylabel('Exchange Rate (MXN/USD)')\n",
    "    \n",
    "    # Plot the line connecting low and high points\n",
    "    plt.plot([min_date, max_date], [min_value, max_value], color='black', linestyle='--', label='Change Line')\n",
    "    \n",
    "    # Plot bubbles at the minimum and maximum points\n",
    "    plt.scatter(min_date, min_value, color='red', s=200, zorder=5, edgecolor='black', label='Low Point')\n",
    "    plt.scatter(max_date, max_value, color='green', s=200, zorder=5, edgecolor='black', label='High Point')\n",
    "    \n",
    "    # Annotate the minimum and maximum points with their values\n",
    "    plt.text(min_date, min_value, f'Low: {min_value:.2f}', verticalalignment='bottom', horizontalalignment='right', fontsize=10, color='red', weight='bold')\n",
    "    plt.text(max_date, max_value, f'High: {max_value:.2f}', verticalalignment='top', horizontalalignment='left', fontsize=10, color='green', weight='bold')\n",
    "    \n",
    "    # Annotate the percentage change\n",
    "    mid_date = min_date + (max_date - min_date) / 2\n",
    "    mid_value = (min_value + max_value) / 2\n",
    "    plt.text(mid_date, mid_value, f'% Change: {pct_change:.2f}%', fontsize=12, color='grey', weight='bold', verticalalignment='center', horizontalalignment='center')\n",
    "\n",
    "    plt.legend()\n",
    "    plt.grid(True)\n",
    "    plt.show()\n"
   ]
  },
  {
   "cell_type": "code",
   "execution_count": 3,
   "metadata": {},
   "outputs": [],
   "source": [
    "# Load the dataset for dollar to pesos exchange rate\n",
    "dollar_to_pesos = pd.read_csv('DEXMXUS.csv')\n",
    "\n",
    "# Process the dollar to pesos data\n",
    "dollar_to_pesos['DATE'] = pd.to_datetime(dollar_to_pesos['DATE'], format='%Y-%m-%d')\n",
    "\n",
    "# Convert the 'DEXMXUS' column to numeric, forcing any errors to be NaN\n",
    "dollar_to_pesos['DEXMXUS'] = pd.to_numeric(dollar_to_pesos['DEXMXUS'], errors='coerce')\n",
    "\n",
    "# Drop any rows with missing values in 'DEXMXUS'\n",
    "dollar_to_pesos = dollar_to_pesos.dropna(subset=['DEXMXUS'])\n"
   ]
  },
  {
   "cell_type": "markdown",
   "metadata": {},
   "source": [
    "## Event 1 - Nakiyah"
   ]
  },
  {
   "cell_type": "code",
   "execution_count": null,
   "metadata": {},
   "outputs": [],
   "source": [
    "\"\"\"https://mexiconewsdaily.com/business/a-trump-slump-for-the-peso/\"\"\"\n",
    "\n",
    "\"\"\"Donald Trump’s victory in the 2024 Republican Party presidential caucuses in Iowa and other factors \n",
    "caused the Mexican peso to depreciate against the US dollar on Tuesday and in Wednesday morning trading, \n",
    "resulting in the currency reaching its weakest position in over a month.\n",
    "\n",
    "he US dollar was trading at 17.38 pesos at around 8:30 a.m. Mexico City time on Wednesday, according to Bloomberg data.  \n",
    "The last time the peso was weaker than that level was Dec. 11.\n",
    "\n",
    "After depreciating to 17.38 to the dollar, the peso appreciated slightly to trade at 17.34 to the dollar at 10 a.m. and 17.26 at 11 a.m.\n",
    "The low the peso reached on Wednesday morning represented a 2.9% decline \n",
    "compared to the currency’s position of 16.88 to the dollar at the close of markets on Monday.\n",
    "On Tuesday, the peso depreciated more than any other major currency, according to Banco Base director of economic analysis Gabriela Siller.\n",
    "The slide came after Trump won a comprehensive victory in the Iowa caucuses, the first contest in the Republican Party’s 2024 presidential primary race.\"\"\""
   ]
  },
  {
   "cell_type": "code",
   "execution_count": null,
   "metadata": {},
   "outputs": [],
   "source": [
    "\"\"\"Donald Trump delivered a significant foreign policy speech in July 2024, which had notable repercussions on the Mexican peso. \n",
    "His speech focused on various topics, including immigration and trade, emphasizing a tougher stance on US-Mexico relations. \n",
    "Specifically, Trump proposed tightening border security, which raised concerns about trade disruptions between the two countries. \n",
    "This speech, combined with market apprehension about potential tariff increases, contributed to the peso's depreciation.\"\"\""
   ]
  },
  {
   "cell_type": "code",
   "execution_count": null,
   "metadata": {},
   "outputs": [],
   "source": [
    "## YYYY-mm-dd\n",
    "events = {\n",
    "    'July 2024: Trump’s Foreign Policy Speech Event Analysis': ('2024-07-18', '2024-07-31'),\n",
    "}\n",
    "\n",
    "# Plot exchange rate data for each event\n",
    "for event_name, (start_date, end_date) in events.items():\n",
    "    plot_event_data(event_name, start_date, end_date)"
   ]
  },
  {
   "cell_type": "markdown",
   "metadata": {},
   "source": [
    "## Event 2"
   ]
  },
  {
   "cell_type": "code",
   "execution_count": null,
   "metadata": {},
   "outputs": [],
   "source": [
    "\"\"\"Tariff Threat in 2019:\n",
    "In June 2019, Trump threatened to impose a 5% tariff on all Mexican goods unless Mexico helped stem illegal immigration. \n",
    "This caused a sharp selloff in the peso, which depreciated to 19.80 MXN per USD. The peso fell around 2.3% in reaction to these tariff threats​. \n",
    "The tariff was later averted after negotiations, but the uncertainty weighed heavily on the peso for weeks.\"\"\""
   ]
  },
  {
   "cell_type": "code",
   "execution_count": null,
   "metadata": {},
   "outputs": [],
   "source": [
    "## YYYY-mm-dd\n",
    "events = {\n",
    "    'July 2024: Trump’s Foreign Policy Speech Event Analysis': ('2024-07-18', '2024-07-31'),\n",
    "}\n",
    "\n",
    "# Plot exchange rate data for each event\n",
    "for event_name, (start_date, end_date) in events.items():\n",
    "    plot_event_data(event_name, start_date, end_date)"
   ]
  }
 ],
 "metadata": {
  "kernelspec": {
   "display_name": "Python 3",
   "language": "python",
   "name": "python3"
  },
  "language_info": {
   "codemirror_mode": {
    "name": "ipython",
    "version": 3
   },
   "file_extension": ".py",
   "mimetype": "text/x-python",
   "name": "python",
   "nbconvert_exporter": "python",
   "pygments_lexer": "ipython3",
   "version": "3.11.2"
  }
 },
 "nbformat": 4,
 "nbformat_minor": 2
}
