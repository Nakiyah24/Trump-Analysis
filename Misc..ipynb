{
 "cells": [
  {
   "cell_type": "code",
   "execution_count": null,
   "metadata": {},
   "outputs": [],
   "source": []
  },
  {
   "cell_type": "markdown",
   "metadata": {},
   "source": [
    "## Event 2"
   ]
  },
  {
   "cell_type": "code",
   "execution_count": null,
   "metadata": {},
   "outputs": [],
   "source": [
    "\"\"\"Tariff Threat in 2019:\n",
    "In June 2019, Trump threatened to impose a 5% tariff on all Mexican goods unless Mexico helped stem illegal immigration. \n",
    "This caused a sharp selloff in the peso, which depreciated to 19.80 MXN per USD. The peso fell around 2.3% in reaction to these tariff threats​. \n",
    "The tariff was later averted after negotiations, but the uncertainty weighed heavily on the peso for weeks.\"\"\""
   ]
  },
  {
   "cell_type": "code",
   "execution_count": null,
   "metadata": {},
   "outputs": [],
   "source": [
    "\"\"\"Donald Trump delivered a significant foreign policy speech in July 2024, which had notable repercussions on the Mexican peso. \n",
    "His speech focused on various topics, including immigration and trade, emphasizing a tougher stance on US-Mexico relations. \n",
    "Specifically, Trump proposed tightening border security, which raised concerns about trade disruptions between the two countries. \n",
    "This speech, combined with market apprehension about potential tariff increases, contributed to the peso's depreciation.\"\"\""
   ]
  },
  {
   "cell_type": "code",
   "execution_count": null,
   "metadata": {},
   "outputs": [],
   "source": []
  }
 ],
 "metadata": {
  "kernelspec": {
   "display_name": "Python 3",
   "language": "python",
   "name": "python3"
  },
  "language_info": {
   "codemirror_mode": {
    "name": "ipython",
    "version": 3
   },
   "file_extension": ".py",
   "mimetype": "text/x-python",
   "name": "python",
   "nbconvert_exporter": "python",
   "pygments_lexer": "ipython3",
   "version": "3.11.2"
  }
 },
 "nbformat": 4,
 "nbformat_minor": 2
}
